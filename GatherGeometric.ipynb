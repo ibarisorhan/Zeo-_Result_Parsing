{
 "cells": [
  {
   "cell_type": "code",
   "execution_count": null,
   "id": "9b9ddeba",
   "metadata": {},
   "outputs": [],
   "source": [
    "from os import listdir\n",
    "import pandas as pd"
   ]
  },
  {
   "cell_type": "code",
   "execution_count": null,
   "id": "92981300",
   "metadata": {},
   "outputs": [],
   "source": [
    "list(listdir(\"./DFs/\"))"
   ]
  },
  {
   "cell_type": "code",
   "execution_count": null,
   "id": "99ca676a",
   "metadata": {},
   "outputs": [],
   "source": [
    "f = open(\"./DFs/OUTPUT_res.txt\",'r')\n",
    "data = f.read()\n",
    "f.close()"
   ]
  },
  {
   "cell_type": "code",
   "execution_count": null,
   "id": "16803f9f",
   "metadata": {},
   "outputs": [],
   "source": [
    "df1 = {'MOF':[],\n",
    "      'LCD':[],\n",
    "      'PLD':[],\n",
    "      'LFPD':[]}\n",
    "for i in data.split('\\n'):\n",
    "    if i.strip() != \"\":\n",
    "        cs = i.split()\n",
    "        df1['MOF'].append(cs[0].split('_output.res')[0])\n",
    "        df1['LCD'].append(cs[1])\n",
    "        df1['PLD'].append(cs[2])\n",
    "        df1['LFPD'].append(cs[3])"
   ]
  },
  {
   "cell_type": "code",
   "execution_count": null,
   "id": "4d6c6872",
   "metadata": {},
   "outputs": [],
   "source": [
    "f = open(\"./DFs/OUTPUT_volpo.txt\",'r')\n",
    "data = f.read()\n",
    "f.close()"
   ]
  },
  {
   "cell_type": "code",
   "execution_count": null,
   "id": "3806a894",
   "metadata": {},
   "outputs": [],
   "source": [
    "def getData(block):\n",
    "    \"\"\"\n",
    "    Takes line (data block) from zeo++ output\n",
    "    Return Dictionary of values calculated\n",
    "    \"\"\"\n",
    "    output = {}\n",
    "    name = block.split('\\n')[0].split('@')[1].strip().split('.')[0]\n",
    "    output['FILE'] = [name]\n",
    "    \n",
    "    #l1 = block.split(':')[1].split()[2]\n",
    "    labels = []\n",
    "    \n",
    "    for i in block.split(':')[1:-1]:\n",
    "        print(i)\n",
    "        labels.append(i.strip().split()[1])    \n",
    "    labels.append('Unitcell_volume')\n",
    "    for i in labels:\n",
    "        val = block.split(i)[1].strip().strip(':').split()[0]\n",
    "        output[i] = [val]\n",
    "    \n",
    "    return output\n",
    "\n",
    "def insertToDF(df,dictionary):\n",
    "    if len(df) == 0:\n",
    "        ndf = pd.DataFrame(dictionary)\n",
    "    else:\n",
    "        row = []\n",
    "        for key in df.columns:\n",
    "            row.append(dictionary[key][0])\n",
    "        df.loc[len(df)] = row\n",
    "        ndf = df\n",
    "    return ndf"
   ]
  },
  {
   "cell_type": "code",
   "execution_count": null,
   "id": "e7f81d0b",
   "metadata": {},
   "outputs": [],
   "source": [
    "lines = [i for i in data.split('\\n') if (len(i)>0 and i[0] == '@')]"
   ]
  },
  {
   "cell_type": "code",
   "execution_count": null,
   "id": "41329a63",
   "metadata": {},
   "outputs": [],
   "source": [
    "df = pd.DataFrame(getData(lines[0]))"
   ]
  },
  {
   "cell_type": "code",
   "execution_count": null,
   "id": "ee4c71ea",
   "metadata": {},
   "outputs": [],
   "source": [
    "df"
   ]
  },
  {
   "cell_type": "code",
   "execution_count": null,
   "id": "a514a0e1",
   "metadata": {},
   "outputs": [],
   "source": [
    "for i in lines[1:]:\n",
    "    df = insertToDF(df,getData(i))"
   ]
  },
  {
   "cell_type": "code",
   "execution_count": null,
   "id": "22caa76b",
   "metadata": {},
   "outputs": [],
   "source": [
    "df2 = df"
   ]
  },
  {
   "cell_type": "code",
   "execution_count": null,
   "id": "9d09a04f",
   "metadata": {},
   "outputs": [],
   "source": [
    "df2"
   ]
  },
  {
   "cell_type": "code",
   "execution_count": null,
   "id": "6e0397a5",
   "metadata": {},
   "outputs": [],
   "source": [
    "lines[0]"
   ]
  },
  {
   "cell_type": "code",
   "execution_count": null,
   "id": "aa827085",
   "metadata": {},
   "outputs": [],
   "source": [
    "f = open(\"./DFs/OUTPUT_sa.txt\",'r')\n",
    "data = f.read()\n",
    "f.close()"
   ]
  },
  {
   "cell_type": "code",
   "execution_count": null,
   "id": "1e81afe4",
   "metadata": {},
   "outputs": [],
   "source": [
    "lines = [i for i in data.split('\\n') if (len(i)>0 and i[0] == '@')]"
   ]
  },
  {
   "cell_type": "code",
   "execution_count": null,
   "id": "ced64bff",
   "metadata": {},
   "outputs": [],
   "source": [
    "lines"
   ]
  },
  {
   "cell_type": "code",
   "execution_count": null,
   "id": "0f57b6fb",
   "metadata": {},
   "outputs": [],
   "source": [
    "df = pd.DataFrame(getData(lines[0]))\n",
    "for i in lines[1:]:\n",
    "    df = insertToDF(df,getData(i))"
   ]
  },
  {
   "cell_type": "code",
   "execution_count": null,
   "id": "865777fe",
   "metadata": {},
   "outputs": [],
   "source": [
    "df1 = pd.DataFrame(df1)"
   ]
  },
  {
   "cell_type": "code",
   "execution_count": null,
   "id": "d1c4c924",
   "metadata": {},
   "outputs": [],
   "source": [
    "df3 = df"
   ]
  },
  {
   "cell_type": "code",
   "execution_count": null,
   "id": "3e53f95f",
   "metadata": {},
   "outputs": [],
   "source": [
    "df = df1"
   ]
  },
  {
   "cell_type": "code",
   "execution_count": null,
   "id": "6af2285b",
   "metadata": {},
   "outputs": [],
   "source": [
    "#df = df.join(df2, on= 'FILE')\n",
    "df = pd.concat([df1, df2,df3], axis=\"columns\")"
   ]
  },
  {
   "cell_type": "code",
   "execution_count": null,
   "id": "96bcbaea",
   "metadata": {},
   "outputs": [],
   "source": []
  },
  {
   "cell_type": "code",
   "execution_count": null,
   "id": "e142f387",
   "metadata": {},
   "outputs": [],
   "source": [
    "df1 = df1.rename(columns = {'MOF':'FILE'})"
   ]
  },
  {
   "cell_type": "code",
   "execution_count": null,
   "id": "edb2a4b2",
   "metadata": {},
   "outputs": [],
   "source": [
    "df1"
   ]
  },
  {
   "cell_type": "code",
   "execution_count": null,
   "id": "ca3ab2d2",
   "metadata": {},
   "outputs": [],
   "source": [
    "df2"
   ]
  },
  {
   "cell_type": "code",
   "execution_count": null,
   "id": "28983f2d",
   "metadata": {},
   "outputs": [],
   "source": [
    "s3 = pd.read_csv('Anion_Chemical.csv')"
   ]
  },
  {
   "cell_type": "code",
   "execution_count": null,
   "id": "28203c2d",
   "metadata": {},
   "outputs": [],
   "source": [
    "s3.MOF = [i[:-4] for i in s3.MOF]"
   ]
  },
  {
   "cell_type": "code",
   "execution_count": null,
   "id": "2a1b6adb",
   "metadata": {},
   "outputs": [],
   "source": [
    "s3"
   ]
  },
  {
   "cell_type": "code",
   "execution_count": null,
   "id": "df638de8",
   "metadata": {},
   "outputs": [],
   "source": [
    "df"
   ]
  },
  {
   "cell_type": "code",
   "execution_count": null,
   "id": "b79347de",
   "metadata": {},
   "outputs": [],
   "source": [
    "df.to_csv('SIFSIX_geometry.csv')"
   ]
  },
  {
   "cell_type": "code",
   "execution_count": null,
   "id": "c6b6a76b",
   "metadata": {},
   "outputs": [],
   "source": []
  }
 ],
 "metadata": {
  "kernelspec": {
   "display_name": "Python 3 (ipykernel)",
   "language": "python",
   "name": "python3"
  },
  "language_info": {
   "codemirror_mode": {
    "name": "ipython",
    "version": 3
   },
   "file_extension": ".py",
   "mimetype": "text/x-python",
   "name": "python",
   "nbconvert_exporter": "python",
   "pygments_lexer": "ipython3",
   "version": "3.9.12"
  }
 },
 "nbformat": 4,
 "nbformat_minor": 5
}
