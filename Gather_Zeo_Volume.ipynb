{
 "cells": [
  {
   "cell_type": "code",
   "execution_count": 17,
   "id": "c30a2b59",
   "metadata": {},
   "outputs": [],
   "source": [
    "import pandas as pd"
   ]
  },
  {
   "cell_type": "code",
   "execution_count": 15,
   "id": "6ebd4e39",
   "metadata": {},
   "outputs": [],
   "source": [
    "f=open(\"./Desktop/vol_FA.txt\",'r')\n",
    "data = f.read()\n",
    "f.close()\n",
    "\n",
    "FA = {'MOF':[], 'AV_cm^3/g':[], 'NAV_cm^3/g':[]}\n",
    "\n",
    "for i in data.split('@'):\n",
    "    if i .strip() != \"\":\n",
    "        x = i.strip() \n",
    "        FA['MOF'].append(x.split()[0][:-4])\n",
    "        FA['AV_cm^3/g'].append(x.split('AV_cm^3/g:')[1].strip().split()[0].strip())\n",
    "        FA['NAV_cm^3/g'].append(x.split('NAV_cm^3/g:')[1].strip().split()[0].strip())"
   ]
  },
  {
   "cell_type": "code",
   "execution_count": 16,
   "id": "ab075f23",
   "metadata": {},
   "outputs": [],
   "source": [
    "f=open(\"./Desktop/OUTPUT_vol.txt\",'r')\n",
    "data = f.read()\n",
    "f.close()\n",
    "\n",
    "SIFSIX = {'MOF':[], 'AV_cm^3/g':[], 'NAV_cm^3/g':[]}\n",
    "\n",
    "for i in data.split('@'):\n",
    "    if i .strip() != \"\":\n",
    "        x = i.strip() \n",
    "        SIFSIX['MOF'].append(x.split()[0][:-4])\n",
    "        SIFSIX['AV_cm^3/g'].append(x.split('AV_cm^3/g:')[1].strip().split()[0].strip())\n",
    "        SIFSIX['NAV_cm^3/g'].append(x.split('NAV_cm^3/g:')[1].strip().split()[0].strip())"
   ]
  },
  {
   "cell_type": "code",
   "execution_count": 18,
   "id": "2c164f1c",
   "metadata": {},
   "outputs": [],
   "source": [
    "FA_df = pd.DataFrame(FA)\n",
    "SIFSIX_df = pd.DataFrame(SIFSIX)"
   ]
  },
  {
   "cell_type": "code",
   "execution_count": 21,
   "id": "e8bc5ece",
   "metadata": {},
   "outputs": [],
   "source": [
    "FA_df.to_csv('./Desktop/Redone_Volume_FA.csv')"
   ]
  },
  {
   "cell_type": "code",
   "execution_count": 22,
   "id": "09d8a3b5",
   "metadata": {},
   "outputs": [],
   "source": [
    "SIFSIX_df.to_csv('./Desktop/SIFSIX_vol.csv')"
   ]
  },
  {
   "cell_type": "code",
   "execution_count": null,
   "id": "dcc8df1b",
   "metadata": {},
   "outputs": [],
   "source": []
  }
 ],
 "metadata": {
  "kernelspec": {
   "display_name": "Python 3 (ipykernel)",
   "language": "python",
   "name": "python3"
  },
  "language_info": {
   "codemirror_mode": {
    "name": "ipython",
    "version": 3
   },
   "file_extension": ".py",
   "mimetype": "text/x-python",
   "name": "python",
   "nbconvert_exporter": "python",
   "pygments_lexer": "ipython3",
   "version": "3.9.12"
  }
 },
 "nbformat": 4,
 "nbformat_minor": 5
}
